{
 "cells": [
  {
   "cell_type": "code",
   "execution_count": null,
   "id": "bc3abdfb-1eb4-4c64-bf79-012781b5e1f7",
   "metadata": {},
   "outputs": [],
   "source": [
    "Step 2: Data Cleaning & Manipulation using Pandas\n",
    "\n",
    "Data cleaning means correcting incorrect, missing, or duplicate data.\n",
    "\n",
    "With the help of the Pandas library, we can easily clean and manipulate data.\n",
    "\n",
    "In this step, we will learn important cleaning techniques:\n",
    "\n",
    "Dropping or filling missing data\n",
    "\n",
    "Removing duplicate rows\n",
    "\n",
    "Renaming columns\n",
    "\n",
    "Changing data types"
   ]
  },
  {
   "cell_type": "code",
   "execution_count": 6,
   "id": "8b5537eb-439b-4999-95a5-92af8e7081aa",
   "metadata": {
    "scrolled": true
   },
   "outputs": [
    {
     "name": "stdout",
     "output_type": "stream",
     "text": [
      "🔹 Original DataFrame:\n",
      "     Name   Age       City\n",
      "0  Rizwan  25.0     Lahore\n",
      "1     Ali  30.0       None\n",
      "2   Ahmed   NaN    Karachi\n",
      "3    None  22.0  Islamabad\n",
      "4    Zara  28.0     Quetta\n",
      "\n",
      "✅ Cleaned DataFrame (after dropna):\n",
      "     Name   Age    City\n",
      "0  Rizwan  25.0  Lahore\n",
      "4    Zara  28.0  Quetta\n"
     ]
    }
   ],
   "source": [
    "import pandas as pd\n",
    "\n",
    "data = {\n",
    "    'Name': ['Rizwan', 'Ali', 'Ahmed', None, 'Zara'],\n",
    "    'Age': [25, 30, None, 22, 28],\n",
    "    'City': ['Lahore', None, 'Karachi', 'Islamabad', 'Quetta']\n",
    "}\n",
    "\n",
    "df = pd.DataFrame(data)\n",
    "\n",
    "print(\"🔹 Original DataFrame:\")\n",
    "print(df)\n",
    "\n",
    "\n",
    "df_cleaned = df.dropna()\n",
    "\n",
    "print(\"\\n✅ Cleaned DataFrame (after dropna):\")\n",
    "print(df_cleaned)\n"
   ]
  },
  {
   "cell_type": "code",
   "execution_count": null,
   "id": "2e818d23-d31c-495e-9d08-89e0db9ba113",
   "metadata": {},
   "outputs": [],
   "source": [
    "We have dropped the rows with None values.\n",
    "\n",
    "The dropna()function only keeps rows where there are no missing values."
   ]
  },
  {
   "cell_type": "code",
   "execution_count": 8,
   "id": "5e77c5d8-973a-450d-b67d-6dfb294bf659",
   "metadata": {},
   "outputs": [
    {
     "name": "stdout",
     "output_type": "stream",
     "text": [
      "🔹 Original DataFrame:\n",
      "     Name   Age       City\n",
      "0  Rizwan  25.0     Lahore\n",
      "1     Ali  30.0       None\n",
      "2   Ahmed   NaN    Karachi\n",
      "3    None  22.0  Islamabad\n",
      "4    Zara  28.0     Quetta\n",
      "\n",
      "✅ DataFrame after fillna:\n",
      "      Name    Age          City\n",
      "0   Rizwan  25.00        Lahore\n",
      "1      Ali  30.00  Unknown City\n",
      "2    Ahmed  26.25       Karachi\n",
      "3  Unknown  22.00     Islamabad\n",
      "4     Zara  28.00        Quetta\n"
     ]
    }
   ],
   "source": [
    "import pandas as pd\n",
    "\n",
    "\n",
    "data = {\n",
    "    'Name': ['Rizwan', 'Ali', 'Ahmed', None, 'Zara'],\n",
    "    'Age': [25, 30, None, 22, 28],\n",
    "    'City': ['Lahore', None, 'Karachi', 'Islamabad', 'Quetta']\n",
    "}\n",
    "\n",
    "df = pd.DataFrame(data)\n",
    "\n",
    "print(\"🔹 Original DataFrame:\")\n",
    "print(df)\n",
    "\n",
    "\n",
    "df_filled = df.fillna({\n",
    "    'Name': 'Unknown',\n",
    "    'Age': df['Age'].mean(),  \n",
    "    'City': 'Unknown City'\n",
    "})\n",
    "\n",
    "print(\"\\n✅ DataFrame after fillna:\")\n",
    "print(df_filled)\n"
   ]
  },
  {
   "cell_type": "code",
   "execution_count": null,
   "id": "a70a863b-c9f4-4cf2-9b76-65e0340100cf",
   "metadata": {},
   "outputs": [],
   "source": [
    "By using fillna(), we filled the missing values.\n",
    "- In the Name column, we added 'Unknown'.\n",
    "- For the Age column, we used the average (mean).\n",
    "- In the City column, we added 'Unknown City'."
   ]
  },
  {
   "cell_type": "code",
   "execution_count": 9,
   "id": "ccca7014-f3eb-48dc-a531-5a0ee7cc597e",
   "metadata": {},
   "outputs": [
    {
     "name": "stdout",
     "output_type": "stream",
     "text": [
      "🔹 Original DataFrame (with duplicates):\n",
      "     Name  Age     City\n",
      "0  Rizwan   25   Lahore\n",
      "1     Ali   30  Karachi\n",
      "2   Ahmed   25   Lahore\n",
      "3    Zara   28   Quetta\n",
      "4    Sara   30  Karachi\n",
      "\n",
      "✅ DataFrame after drop_duplicates():\n",
      "     Name  Age     City\n",
      "0  Rizwan   25   Lahore\n",
      "1     Ali   30  Karachi\n",
      "2   Ahmed   25   Lahore\n",
      "3    Zara   28   Quetta\n",
      "4    Sara   30  Karachi\n"
     ]
    }
   ],
   "source": [
    "import pandas as pd\n",
    "\n",
    "data = {\n",
    "    'Name': ['Rizwan', 'Ali', 'Ahmed', 'Zara', 'Sara'],\n",
    "    'Age': [25, 30, 25, 28, 30],\n",
    "    'City': ['Lahore', 'Karachi', 'Lahore', 'Quetta', 'Karachi']\n",
    "}\n",
    "\n",
    "df = pd.DataFrame(data)\n",
    "\n",
    "print(\"🔹 Original DataFrame (with duplicates):\")\n",
    "print(df)\n",
    "\n",
    "\n",
    "df_no_duplicates = df.drop_duplicates()\n",
    "\n",
    "print(\"\\n✅ DataFrame after drop_duplicates():\")\n",
    "print(df_no_duplicates)\n"
   ]
  },
  {
   "cell_type": "code",
   "execution_count": null,
   "id": "e304fe25-9567-4b2e-a4c0-b1c05d1c1bdc",
   "metadata": {},
   "outputs": [],
   "source": [
    "\n",
    "\n",
    "drop_duplicates() is used to remove duplicate rows.\n",
    "\n",
    "In the above example, the rows for \"Ali\" and \"Sara\" were repeated.\n",
    "\n",
    "The function kept only the unique rows.\n"
   ]
  },
  {
   "cell_type": "code",
   "execution_count": 10,
   "id": "05e83646-2607-420d-bc76-6e6b73b2589c",
   "metadata": {},
   "outputs": [
    {
     "name": "stdout",
     "output_type": "stream",
     "text": [
      "  Full_Name  Years\n",
      "0    Rizwan     22\n",
      "1       Ali     25\n",
      "2     Ahmed     24\n"
     ]
    }
   ],
   "source": [
    "import pandas as pd\n",
    "\n",
    "data = {\n",
    "    \"Name\": [\"Rizwan\", \"Ali\", \"Ahmed\"],\n",
    "    \"Age\": [22, 25, 24]\n",
    "}\n",
    "\n",
    "df = pd.DataFrame(data)\n",
    "\n",
    "\n",
    "df_renamed = df.rename(columns={\"Name\": \"Full_Name\", \"Age\": \"Years\"})\n",
    "\n",
    "print(df_renamed)\n"
   ]
  },
  {
   "cell_type": "code",
   "execution_count": null,
   "id": "e041018a-6e61-4678-b9f9-ff2883d58815",
   "metadata": {},
   "outputs": [],
   "source": [
    "Here, we used the rename() function to change \"Name\" to \"Full_Name\" and \"Age\" to \"Years.\"\n",
    "\n",
    "This updates the column names of the DataFrame."
   ]
  },
  {
   "cell_type": "code",
   "execution_count": null,
   "id": "f7d455e1-679f-4b03-87a1-251fdca13ac8",
   "metadata": {},
   "outputs": [],
   "source": [
    "The astype() function in Pandas is used to change the data type of a column.\n",
    "\n",
    "For example, if a column has numbers stored as strings, we can convert them to integers or floats using astype().\n",
    "\n",
    "This is useful when:\n",
    "- We want to perform mathematical operations\n",
    "- Or we want to ensure data consistency\n"
   ]
  },
  {
   "cell_type": "code",
   "execution_count": 11,
   "id": "d25603b3-73e3-4b43-91fc-65464132fb6d",
   "metadata": {},
   "outputs": [
    {
     "name": "stdout",
     "output_type": "stream",
     "text": [
      "Before:\n",
      "Age       object\n",
      "Salary    object\n",
      "dtype: object\n",
      "\n",
      "After:\n",
      "Age       int64\n",
      "Salary    int64\n",
      "dtype: object\n"
     ]
    }
   ],
   "source": [
    "import pandas as pd\n",
    "\n",
    "\n",
    "data = {\n",
    "    'Age': ['22', '25', '30'],  \n",
    "    'Salary': ['45000', '52000', '60000']\n",
    "}\n",
    "\n",
    "df = pd.DataFrame(data)\n",
    "\n",
    "\n",
    "print(\"Before:\")\n",
    "print(df.dtypes)\n",
    "\n",
    "df['Age'] = df['Age'].astype(int)\n",
    "df['Salary'] = df['Salary'].astype(int)\n",
    "\n",
    "print(\"\\nAfter:\")\n",
    "print(df.dtypes)\n"
   ]
  }
 ],
 "metadata": {
  "kernelspec": {
   "display_name": "Python 3 (ipykernel)",
   "language": "python",
   "name": "python3"
  },
  "language_info": {
   "codemirror_mode": {
    "name": "ipython",
    "version": 3
   },
   "file_extension": ".py",
   "mimetype": "text/x-python",
   "name": "python",
   "nbconvert_exporter": "python",
   "pygments_lexer": "ipython3",
   "version": "3.13.5"
  }
 },
 "nbformat": 4,
 "nbformat_minor": 5
}
